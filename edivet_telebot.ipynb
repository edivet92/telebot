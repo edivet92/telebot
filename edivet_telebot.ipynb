{
 "cells": [
  {
   "cell_type": "code",
   "execution_count": 2,
   "id": "15bbae5d",
   "metadata": {},
   "outputs": [],
   "source": [
    "from telegram import Update\n",
    "from telegram.ext import Updater, CommandHandler, MessageHandler, Filters, CallbackContext"
   ]
  },
  {
   "cell_type": "code",
   "execution_count": 3,
   "id": "a01682dd",
   "metadata": {},
   "outputs": [],
   "source": [
    "from navec import Navec"
   ]
  },
  {
   "cell_type": "code",
   "execution_count": 4,
   "id": "510de0e7",
   "metadata": {},
   "outputs": [],
   "source": [
    "from transformers import GPT2LMHeadModel, GPT2Tokenizer\n",
    "import torch\n",
    "DEVICE = torch.device('cuda' if torch.cuda.is_available() else 'cpu')"
   ]
  },
  {
   "cell_type": "code",
   "execution_count": 5,
   "id": "0ddcde4d",
   "metadata": {},
   "outputs": [],
   "source": [
    "from transformers import TextDataset, DataCollatorForLanguageModeling\n",
    "from transformers import Trainer, TrainingArguments"
   ]
  },
  {
   "cell_type": "code",
   "execution_count": 2,
   "id": "fb8880cf",
   "metadata": {},
   "outputs": [],
   "source": [
    "import requests\n",
    "import pprint\n",
    "import json"
   ]
  },
  {
   "cell_type": "code",
   "execution_count": 7,
   "id": "dd562b5b",
   "metadata": {},
   "outputs": [],
   "source": [
    "import pymorphy3"
   ]
  },
  {
   "cell_type": "code",
   "execution_count": 8,
   "id": "a5d42e46",
   "metadata": {},
   "outputs": [],
   "source": [
    "import re"
   ]
  },
  {
   "cell_type": "code",
   "execution_count": 3,
   "id": "95619151",
   "metadata": {},
   "outputs": [],
   "source": [
    "from lxml import html"
   ]
  },
  {
   "cell_type": "code",
   "execution_count": 10,
   "id": "f8cd66c8",
   "metadata": {},
   "outputs": [],
   "source": [
    "import numpy as np\n",
    "from numpy.linalg import norm"
   ]
  },
  {
   "cell_type": "code",
   "execution_count": 11,
   "id": "12be978b",
   "metadata": {},
   "outputs": [],
   "source": [
    "path = './navec_hudlit_v1_12B_500K_300d_100q.tar'\n",
    "navec = Navec.load(path)"
   ]
  },
  {
   "cell_type": "code",
   "execution_count": 12,
   "id": "6b6879ef",
   "metadata": {},
   "outputs": [],
   "source": [
    "def cosine_similarity(a, b):\n",
    "    A = navec[a]\n",
    "    B = navec[b]\n",
    "    cosine = np.dot(A,B)/(norm(A)*norm(B))\n",
    "    return cosine"
   ]
  },
  {
   "cell_type": "code",
   "execution_count": 13,
   "id": "76d92373",
   "metadata": {},
   "outputs": [],
   "source": [
    "morph = pymorphy3.MorphAnalyzer()"
   ]
  },
  {
   "cell_type": "code",
   "execution_count": 14,
   "id": "6e120ef7",
   "metadata": {},
   "outputs": [],
   "source": [
    "\n",
    "tokenizer = GPT2Tokenizer.from_pretrained('edivet92/edivet_telebot')\n",
    "model_med = GPT2LMHeadModel.from_pretrained('edivet92/edivet_telebot').to(DEVICE)"
   ]
  },
  {
   "cell_type": "code",
   "execution_count": 15,
   "id": "e8100601",
   "metadata": {
    "scrolled": true
   },
   "outputs": [
    {
     "data": {
      "text/plain": [
       "GPT2LMHeadModel(\n",
       "  (transformer): GPT2Model(\n",
       "    (wte): Embedding(50257, 1024)\n",
       "    (wpe): Embedding(2048, 1024)\n",
       "    (drop): Dropout(p=0.1, inplace=False)\n",
       "    (h): ModuleList(\n",
       "      (0-23): 24 x GPT2Block(\n",
       "        (ln_1): LayerNorm((1024,), eps=1e-05, elementwise_affine=True)\n",
       "        (attn): GPT2Attention(\n",
       "          (c_attn): Conv1D()\n",
       "          (c_proj): Conv1D()\n",
       "          (attn_dropout): Dropout(p=0.1, inplace=False)\n",
       "          (resid_dropout): Dropout(p=0.1, inplace=False)\n",
       "        )\n",
       "        (ln_2): LayerNorm((1024,), eps=1e-05, elementwise_affine=True)\n",
       "        (mlp): GPT2MLP(\n",
       "          (c_fc): Conv1D()\n",
       "          (c_proj): Conv1D()\n",
       "          (act): NewGELUActivation()\n",
       "          (dropout): Dropout(p=0.1, inplace=False)\n",
       "        )\n",
       "      )\n",
       "    )\n",
       "    (ln_f): LayerNorm((1024,), eps=1e-05, elementwise_affine=True)\n",
       "  )\n",
       "  (lm_head): Linear(in_features=1024, out_features=50257, bias=False)\n",
       ")"
      ]
     },
     "execution_count": 15,
     "metadata": {},
     "output_type": "execute_result"
    }
   ],
   "source": [
    "model_med.eval()"
   ]
  },
  {
   "cell_type": "code",
   "execution_count": 16,
   "id": "4b151792",
   "metadata": {},
   "outputs": [],
   "source": [
    "def preprocess_text(text):\n",
    "    text = re.sub('@[\\w]*', '', text)\n",
    "    text = text.lower()\n",
    "    text = re.sub(r'[^\\w\\s]', ' ', text)\n",
    "    text = re.sub(r'[^а-яА-ЯЁё]', ' ', text)\n",
    "    text = [morph.parse(w)[0].normal_form for w in text.split()]\n",
    "    return text"
   ]
  },
  {
   "cell_type": "code",
   "execution_count": 24,
   "id": "973430ce",
   "metadata": {},
   "outputs": [],
   "source": [
    "def decide_make_forecast_or_news_or_avito(message):\n",
    "    to_forecast = False\n",
    "    to_news = False\n",
    "    to_avito = False\n",
    "    for word in preprocess_text(message):    \n",
    "        try:\n",
    "            sim_weather = cosine_similarity(word, 'погода')\n",
    "            if sim_weather > 0.8:\n",
    "                to_forecast = True\n",
    "            sim_news = cosine_similarity(word, 'новость')\n",
    "            if sim_news > 0.8:\n",
    "                to_news = True\n",
    "            sim_avito = cosine_similarity(word, 'купить')\n",
    "            if sim_avito > 0.6:\n",
    "                to_avito = True\n",
    "        except:\n",
    "            pass\n",
    "    return to_forecast, to_news, to_avito"
   ]
  },
  {
   "cell_type": "code",
   "execution_count": 25,
   "id": "941c6565",
   "metadata": {},
   "outputs": [],
   "source": [
    "def get_weather_forecast():\n",
    "    url = 'http://api.openweathermap.org/data/2.5/forecast?id=498817&appid=a78d06f736cffb8c8ff6d5610eba42a1'\n",
    "    r = requests.get(url)\n",
    "    if r.status_code == 200:\n",
    "        forecast = r.json()\n",
    "        temp = forecast['list'][0]['main']['temp']\n",
    "        feel_like = forecast['list'][0]['main']['feels_like']\n",
    "        humidity = forecast['list'][0]['main']['humidity']\n",
    "        sky = forecast['list'][0]['weather'][0]['description']\n",
    "        wind = forecast['list'][0]['wind']['speed']\n",
    "        day_time = forecast['list'][0]['dt_txt']\n",
    "        return f'На {day_time} в Питере {(temp - 273):.1f} градусов, ощущается как {(feel_like - 273):.1f}, небо {sky}. Скорость ветра {wind} м/с, влажность {humidity}%'\n",
    "    else:\n",
    "        return 'Что-то пошло не так'"
   ]
  },
  {
   "cell_type": "code",
   "execution_count": 26,
   "id": "2bb9b7c4",
   "metadata": {},
   "outputs": [],
   "source": [
    "def get_lenta_news():\n",
    "    url = 'https://lenta.ru'\n",
    "    header = {\n",
    "        'User-Agent': 'Mozilla/5.0 (Windows NT 10.0; Win64; x64) AppleWebKit/537.36 (KHTML, like Gecko) Chrome/108.0.0.0 YaBrowser/23.1.1.1138 Yowser/2.5 Safari/537.36',\n",
    "    }\n",
    "    response = requests.get(url, headers=header)\n",
    "    dom = html.fromstring(response.text)\n",
    "    news_list = dom.xpath(\"//a[contains(@class, 'card-mini')]\")\n",
    "    news_dict = {}\n",
    "    for news in news_list[:3]:\n",
    "        news_title = news.xpath(\"./div/h3[contains(@class, 'card-mini__title')]/text()\")[0]\n",
    "        if news.xpath('./@href')[0][0:4] == 'http':\n",
    "            news_link = news.xpath('./@href')[0]\n",
    "        else:\n",
    "            news_link = url + news.xpath('./@href')[0]\n",
    "        news_date = news.xpath('./@href')[0][6:16]\n",
    "        news_time = news.xpath(\"./div/div/time/text()\")\n",
    "        news_dict[news_title] = {\n",
    "            'link': news_link,\n",
    "            'date': news_date,\n",
    "            'time': news_time,\n",
    "        }\n",
    "    return str(news_dict)"
   ]
  },
  {
   "cell_type": "code",
   "execution_count": 48,
   "id": "431829ad",
   "metadata": {},
   "outputs": [],
   "source": [
    "def get_avito_goods(text):\n",
    "    head_link = 'https://www.avito.ru'\n",
    "    url = f'https://www.avito.ru/sankt-peterburg?q={text}'\n",
    "    headers = {\n",
    "        'User-Agent': 'Mozilla/5.0 (Windows NT 10.0; Win64; x64) AppleWebKit/537.36 (KHTML, like Gecko) Chrome/108.0.0.0 YaBrowser/23.1.2.931 Yowser/2.5 Safari/537.36'\n",
    "        }\n",
    "    response = requests.get(url, headers=headers)\n",
    "    dom = html.fromstring(response.text)\n",
    "    items_list = dom.xpath(\"//div[@class='iva-item-content-rejJg']\")\n",
    "    items = items_list[:3]\n",
    "    answer = ''\n",
    "    for item in items:\n",
    "        answer += str(head_link + item.xpath('./div/a/@href')[0])\n",
    "        answer += str(item.xpath(\"./div[@class='iva-item-body-KLUuy']/div/p/text()\")[0][:100] + '\\n')\n",
    "    if len(answer) == 0:\n",
    "        answer = 'Авито блокирует парсинг с этого IP. Хотя из google colab прекрасно работает'\n",
    "    return answer"
   ]
  },
  {
   "cell_type": "code",
   "execution_count": 49,
   "id": "f8d93505",
   "metadata": {},
   "outputs": [],
   "source": [
    "def get_answer(text):\n",
    "    input_ids = tokenizer.encode(text, return_tensors=\"pt\").to(DEVICE)\n",
    "    with torch.no_grad():\n",
    "        out = model_med.generate(input_ids, \n",
    "                            do_sample=True,\n",
    "                            num_beams=3,\n",
    "                            temperature=1.5,\n",
    "                            top_p=1.7,\n",
    "                            max_length=100,\n",
    "                            )\n",
    "\n",
    "    generated_text = list(map(tokenizer.decode, out))[0]\n",
    "    return generated_text.replace('$', '#').split('#')[1]"
   ]
  },
  {
   "cell_type": "code",
   "execution_count": 50,
   "id": "09b468cb",
   "metadata": {},
   "outputs": [],
   "source": [
    "def startCommand(update, context):\n",
    "    context.bot.send_message(chat_id=update.message.chat_id, text='Привет')\n",
    "\n",
    "def textMessage(update, context):\n",
    "    txt = update.message.text\n",
    "    to_forecast, to_news, to_avito = decide_make_forecast_or_news_or_avito(txt)\n",
    "    if to_forecast:\n",
    "        reply = get_weather_forecast()\n",
    "    elif to_news:\n",
    "        reply = get_lenta_news()\n",
    "    elif to_avito:\n",
    "        reply = get_avito_goods(txt)\n",
    "    else:\n",
    "        reply = get_answer(txt)\n",
    "    #update.message.reply_text(reply)\n",
    "    return context.bot.send_message(chat_id=update.message.chat_id, text=reply)"
   ]
  },
  {
   "cell_type": "code",
   "execution_count": 51,
   "id": "bb24068b",
   "metadata": {
    "scrolled": false
   },
   "outputs": [
    {
     "name": "stderr",
     "output_type": "stream",
     "text": [
      "The attention mask and the pad token id were not set. As a consequence, you may observe unexpected behavior. Please pass your input's `attention_mask` to obtain reliable results.\n",
      "Setting `pad_token_id` to `eos_token_id`:50256 for open-end generation.\n",
      "The attention mask and the pad token id were not set. As a consequence, you may observe unexpected behavior. Please pass your input's `attention_mask` to obtain reliable results.\n",
      "Setting `pad_token_id` to `eos_token_id`:50256 for open-end generation.\n"
     ]
    }
   ],
   "source": [
    "updater = Updater(\"6269420671:AAEpiMPQ5b674hwCC7OL0t18a_MbYDUb1w4\", use_context=True)\n",
    "dispatcher = updater.dispatcher\n",
    "       \n",
    "start_command_handler = CommandHandler('start', startCommand)\n",
    "text_message_handler = MessageHandler(Filters.text, textMessage)\n",
    "dispatcher.add_handler(start_command_handler)\n",
    "dispatcher.add_handler(text_message_handler)\n",
    "updater.start_polling(clean=True)\n",
    "updater.idle()"
   ]
  },
  {
   "cell_type": "code",
   "execution_count": null,
   "id": "4538b87b",
   "metadata": {},
   "outputs": [],
   "source": []
  }
 ],
 "metadata": {
  "kernelspec": {
   "display_name": "TeleBot",
   "language": "python",
   "name": "telebot"
  },
  "language_info": {
   "codemirror_mode": {
    "name": "ipython",
    "version": 3
   },
   "file_extension": ".py",
   "mimetype": "text/x-python",
   "name": "python",
   "nbconvert_exporter": "python",
   "pygments_lexer": "ipython3",
   "version": "3.11.4"
  }
 },
 "nbformat": 4,
 "nbformat_minor": 5
}
